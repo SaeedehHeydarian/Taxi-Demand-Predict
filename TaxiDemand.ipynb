{
 "cells": [
  {
   "cell_type": "markdown",
   "id": "dd1c4da3",
   "metadata": {},
   "source": [
    "# Importing Libraries"
   ]
  },
  {
   "cell_type": "code",
   "execution_count": 1,
   "id": "066a319e",
   "metadata": {},
   "outputs": [],
   "source": [
    "import pandas as pd\n",
    "import pyarrow.parquet as pq\n",
    "import numpy as np\n",
    "import matplotlib.pyplot as plt\n",
    "import seaborn as sns\n",
    "from sklearn.linear_model import LinearRegression\n",
    "from sklearn.preprocessing import MinMaxScaler , OneHotEncoder \n",
    "from sklearn.model_selection import train_test_split\n",
    "from sklearn.pipeline import Pipeline\n",
    "from sklearn.tree import DecisionTreeRegressor\n",
    "from sklearn.compose import ColumnTransformer\n",
    "from sklearn.linear_model import Lasso , LinearRegression \n",
    "from sklearn.neighbors import KNeighborsRegressor\n",
    "from sklearn.ensemble import GradientBoostingRegressor\n",
    "from sklearn.ensemble import VotingRegressor\n",
    "from sklearn.model_selection import GridSearchCV\n",
    "from sklearn.metrics import r2_score\n",
    "from sklearn.model_selection import cross_val_predict\n",
    "from sklearn.linear_model import Lasso\n",
    "from sklearn.metrics import mean_squared_error\n",
    "import warnings\n",
    "warnings.filterwarnings('ignore')"
   ]
  },
  {
   "cell_type": "markdown",
   "id": "d0c5a191",
   "metadata": {},
   "source": [
    "Yellow taxi trip records include fields capturing pick-up and drop-off dates/times, pick-up and drop-off locations, trip distances, itemized fares, rate types, payment types, and driver-reported passenger counts in January 2023.\n",
    "The purpose of this issue is to predict the number of taxi drivers in different zones, so I first need to choose appropriate features and metrics. "
   ]
  },
  {
   "cell_type": "code",
   "execution_count": 3,
   "id": "f6b5669e",
   "metadata": {},
   "outputs": [],
   "source": [
    "parquet_file = pq.read_table(r'C:\\Users\\Administrator\\Desktop\\RahnamaCollege\\yellow_tripdata_2023-01.parquet')\n",
    "df = parquet_file.to_pandas()\n",
    "df.to_csv('output.csv', index=False)\n",
    "location=pd.read_csv(r\"C:\\Users\\Administrator\\Downloads\\taxi+_zone_lookup.csv\")"
   ]
  },
  {
   "cell_type": "code",
   "execution_count": 4,
   "id": "dbb59179",
   "metadata": {},
   "outputs": [],
   "source": [
    "dataset=df.copy()"
   ]
  },
  {
   "cell_type": "markdown",
   "id": "57a5fcaf",
   "metadata": {},
   "source": [
    "# Reading Dataset "
   ]
  },
  {
   "cell_type": "code",
   "execution_count": 5,
   "id": "2814a98d",
   "metadata": {},
   "outputs": [
    {
     "data": {
      "text/html": [
       "<div>\n",
       "<style scoped>\n",
       "    .dataframe tbody tr th:only-of-type {\n",
       "        vertical-align: middle;\n",
       "    }\n",
       "\n",
       "    .dataframe tbody tr th {\n",
       "        vertical-align: top;\n",
       "    }\n",
       "\n",
       "    .dataframe thead th {\n",
       "        text-align: right;\n",
       "    }\n",
       "</style>\n",
       "<table border=\"1\" class=\"dataframe\">\n",
       "  <thead>\n",
       "    <tr style=\"text-align: right;\">\n",
       "      <th></th>\n",
       "      <th>VendorID</th>\n",
       "      <th>tpep_pickup_datetime</th>\n",
       "      <th>tpep_dropoff_datetime</th>\n",
       "      <th>passenger_count</th>\n",
       "      <th>trip_distance</th>\n",
       "      <th>RatecodeID</th>\n",
       "      <th>store_and_fwd_flag</th>\n",
       "      <th>PULocationID</th>\n",
       "      <th>DOLocationID</th>\n",
       "      <th>payment_type</th>\n",
       "      <th>fare_amount</th>\n",
       "      <th>extra</th>\n",
       "      <th>mta_tax</th>\n",
       "      <th>tip_amount</th>\n",
       "      <th>tolls_amount</th>\n",
       "      <th>improvement_surcharge</th>\n",
       "      <th>total_amount</th>\n",
       "      <th>congestion_surcharge</th>\n",
       "      <th>airport_fee</th>\n",
       "    </tr>\n",
       "  </thead>\n",
       "  <tbody>\n",
       "    <tr>\n",
       "      <th>0</th>\n",
       "      <td>2</td>\n",
       "      <td>2023-01-01 00:32:10</td>\n",
       "      <td>2023-01-01 00:40:36</td>\n",
       "      <td>1.0</td>\n",
       "      <td>0.97</td>\n",
       "      <td>1.0</td>\n",
       "      <td>N</td>\n",
       "      <td>161</td>\n",
       "      <td>141</td>\n",
       "      <td>2</td>\n",
       "      <td>9.3</td>\n",
       "      <td>1.00</td>\n",
       "      <td>0.5</td>\n",
       "      <td>0.00</td>\n",
       "      <td>0.0</td>\n",
       "      <td>1.0</td>\n",
       "      <td>14.30</td>\n",
       "      <td>2.5</td>\n",
       "      <td>0.00</td>\n",
       "    </tr>\n",
       "    <tr>\n",
       "      <th>1</th>\n",
       "      <td>2</td>\n",
       "      <td>2023-01-01 00:55:08</td>\n",
       "      <td>2023-01-01 01:01:27</td>\n",
       "      <td>1.0</td>\n",
       "      <td>1.10</td>\n",
       "      <td>1.0</td>\n",
       "      <td>N</td>\n",
       "      <td>43</td>\n",
       "      <td>237</td>\n",
       "      <td>1</td>\n",
       "      <td>7.9</td>\n",
       "      <td>1.00</td>\n",
       "      <td>0.5</td>\n",
       "      <td>4.00</td>\n",
       "      <td>0.0</td>\n",
       "      <td>1.0</td>\n",
       "      <td>16.90</td>\n",
       "      <td>2.5</td>\n",
       "      <td>0.00</td>\n",
       "    </tr>\n",
       "    <tr>\n",
       "      <th>2</th>\n",
       "      <td>2</td>\n",
       "      <td>2023-01-01 00:25:04</td>\n",
       "      <td>2023-01-01 00:37:49</td>\n",
       "      <td>1.0</td>\n",
       "      <td>2.51</td>\n",
       "      <td>1.0</td>\n",
       "      <td>N</td>\n",
       "      <td>48</td>\n",
       "      <td>238</td>\n",
       "      <td>1</td>\n",
       "      <td>14.9</td>\n",
       "      <td>1.00</td>\n",
       "      <td>0.5</td>\n",
       "      <td>15.00</td>\n",
       "      <td>0.0</td>\n",
       "      <td>1.0</td>\n",
       "      <td>34.90</td>\n",
       "      <td>2.5</td>\n",
       "      <td>0.00</td>\n",
       "    </tr>\n",
       "    <tr>\n",
       "      <th>3</th>\n",
       "      <td>1</td>\n",
       "      <td>2023-01-01 00:03:48</td>\n",
       "      <td>2023-01-01 00:13:25</td>\n",
       "      <td>0.0</td>\n",
       "      <td>1.90</td>\n",
       "      <td>1.0</td>\n",
       "      <td>N</td>\n",
       "      <td>138</td>\n",
       "      <td>7</td>\n",
       "      <td>1</td>\n",
       "      <td>12.1</td>\n",
       "      <td>7.25</td>\n",
       "      <td>0.5</td>\n",
       "      <td>0.00</td>\n",
       "      <td>0.0</td>\n",
       "      <td>1.0</td>\n",
       "      <td>20.85</td>\n",
       "      <td>0.0</td>\n",
       "      <td>1.25</td>\n",
       "    </tr>\n",
       "    <tr>\n",
       "      <th>4</th>\n",
       "      <td>2</td>\n",
       "      <td>2023-01-01 00:10:29</td>\n",
       "      <td>2023-01-01 00:21:19</td>\n",
       "      <td>1.0</td>\n",
       "      <td>1.43</td>\n",
       "      <td>1.0</td>\n",
       "      <td>N</td>\n",
       "      <td>107</td>\n",
       "      <td>79</td>\n",
       "      <td>1</td>\n",
       "      <td>11.4</td>\n",
       "      <td>1.00</td>\n",
       "      <td>0.5</td>\n",
       "      <td>3.28</td>\n",
       "      <td>0.0</td>\n",
       "      <td>1.0</td>\n",
       "      <td>19.68</td>\n",
       "      <td>2.5</td>\n",
       "      <td>0.00</td>\n",
       "    </tr>\n",
       "  </tbody>\n",
       "</table>\n",
       "</div>"
      ],
      "text/plain": [
       "   VendorID tpep_pickup_datetime tpep_dropoff_datetime  passenger_count  \\\n",
       "0         2  2023-01-01 00:32:10   2023-01-01 00:40:36              1.0   \n",
       "1         2  2023-01-01 00:55:08   2023-01-01 01:01:27              1.0   \n",
       "2         2  2023-01-01 00:25:04   2023-01-01 00:37:49              1.0   \n",
       "3         1  2023-01-01 00:03:48   2023-01-01 00:13:25              0.0   \n",
       "4         2  2023-01-01 00:10:29   2023-01-01 00:21:19              1.0   \n",
       "\n",
       "   trip_distance  RatecodeID store_and_fwd_flag  PULocationID  DOLocationID  \\\n",
       "0           0.97         1.0                  N           161           141   \n",
       "1           1.10         1.0                  N            43           237   \n",
       "2           2.51         1.0                  N            48           238   \n",
       "3           1.90         1.0                  N           138             7   \n",
       "4           1.43         1.0                  N           107            79   \n",
       "\n",
       "   payment_type  fare_amount  extra  mta_tax  tip_amount  tolls_amount  \\\n",
       "0             2          9.3   1.00      0.5        0.00           0.0   \n",
       "1             1          7.9   1.00      0.5        4.00           0.0   \n",
       "2             1         14.9   1.00      0.5       15.00           0.0   \n",
       "3             1         12.1   7.25      0.5        0.00           0.0   \n",
       "4             1         11.4   1.00      0.5        3.28           0.0   \n",
       "\n",
       "   improvement_surcharge  total_amount  congestion_surcharge  airport_fee  \n",
       "0                    1.0         14.30                   2.5         0.00  \n",
       "1                    1.0         16.90                   2.5         0.00  \n",
       "2                    1.0         34.90                   2.5         0.00  \n",
       "3                    1.0         20.85                   0.0         1.25  \n",
       "4                    1.0         19.68                   2.5         0.00  "
      ]
     },
     "execution_count": 5,
     "metadata": {},
     "output_type": "execute_result"
    }
   ],
   "source": [
    "dataset.head()"
   ]
  },
  {
   "cell_type": "code",
   "execution_count": 129,
   "id": "1aa27212",
   "metadata": {},
   "outputs": [
    {
     "data": {
      "text/plain": [
       "Index(['VendorID', 'tpep_pickup_datetime', 'tpep_dropoff_datetime',\n",
       "       'passenger_count', 'trip_distance', 'RatecodeID', 'store_and_fwd_flag',\n",
       "       'PULocationID', 'DOLocationID', 'payment_type', 'fare_amount', 'extra',\n",
       "       'mta_tax', 'tip_amount', 'tolls_amount', 'improvement_surcharge',\n",
       "       'total_amount', 'congestion_surcharge', 'airport_fee', 'weekdays',\n",
       "       'month', 'hour_start', 'hour_end', 'trip_duration',\n",
       "       'trip_duration_seconds', 'trip_duration_minutes', 'start_loc',\n",
       "       'end_loc', 'days'],\n",
       "      dtype='object')"
      ]
     },
     "execution_count": 129,
     "metadata": {},
     "output_type": "execute_result"
    }
   ],
   "source": [
    "dataset.columns"
   ]
  },
  {
   "cell_type": "code",
   "execution_count": 6,
   "id": "7ad4204e",
   "metadata": {},
   "outputs": [
    {
     "name": "stdout",
     "output_type": "stream",
     "text": [
      "<class 'pandas.core.frame.DataFrame'>\n",
      "RangeIndex: 3066766 entries, 0 to 3066765\n",
      "Data columns (total 19 columns):\n",
      " #   Column                 Dtype         \n",
      "---  ------                 -----         \n",
      " 0   VendorID               int64         \n",
      " 1   tpep_pickup_datetime   datetime64[us]\n",
      " 2   tpep_dropoff_datetime  datetime64[us]\n",
      " 3   passenger_count        float64       \n",
      " 4   trip_distance          float64       \n",
      " 5   RatecodeID             float64       \n",
      " 6   store_and_fwd_flag     object        \n",
      " 7   PULocationID           int64         \n",
      " 8   DOLocationID           int64         \n",
      " 9   payment_type           int64         \n",
      " 10  fare_amount            float64       \n",
      " 11  extra                  float64       \n",
      " 12  mta_tax                float64       \n",
      " 13  tip_amount             float64       \n",
      " 14  tolls_amount           float64       \n",
      " 15  improvement_surcharge  float64       \n",
      " 16  total_amount           float64       \n",
      " 17  congestion_surcharge   float64       \n",
      " 18  airport_fee            float64       \n",
      "dtypes: datetime64[us](2), float64(12), int64(4), object(1)\n",
      "memory usage: 444.6+ MB\n"
     ]
    }
   ],
   "source": [
    "dataset.info()"
   ]
  },
  {
   "cell_type": "code",
   "execution_count": 7,
   "id": "b60747d2",
   "metadata": {},
   "outputs": [
    {
     "data": {
      "text/html": [
       "<div>\n",
       "<style scoped>\n",
       "    .dataframe tbody tr th:only-of-type {\n",
       "        vertical-align: middle;\n",
       "    }\n",
       "\n",
       "    .dataframe tbody tr th {\n",
       "        vertical-align: top;\n",
       "    }\n",
       "\n",
       "    .dataframe thead th {\n",
       "        text-align: right;\n",
       "    }\n",
       "</style>\n",
       "<table border=\"1\" class=\"dataframe\">\n",
       "  <thead>\n",
       "    <tr style=\"text-align: right;\">\n",
       "      <th></th>\n",
       "      <th>count</th>\n",
       "      <th>mean</th>\n",
       "      <th>min</th>\n",
       "      <th>25%</th>\n",
       "      <th>50%</th>\n",
       "      <th>75%</th>\n",
       "      <th>max</th>\n",
       "      <th>std</th>\n",
       "    </tr>\n",
       "  </thead>\n",
       "  <tbody>\n",
       "    <tr>\n",
       "      <th>VendorID</th>\n",
       "      <td>3066766.0</td>\n",
       "      <td>1.730215</td>\n",
       "      <td>1.0</td>\n",
       "      <td>1.0</td>\n",
       "      <td>2.0</td>\n",
       "      <td>2.0</td>\n",
       "      <td>2.0</td>\n",
       "      <td>0.443848</td>\n",
       "    </tr>\n",
       "    <tr>\n",
       "      <th>tpep_pickup_datetime</th>\n",
       "      <td>3066766</td>\n",
       "      <td>2023-01-17 00:22:26.288164</td>\n",
       "      <td>2008-12-31 23:01:42</td>\n",
       "      <td>2023-01-09 16:21:57.250000</td>\n",
       "      <td>2023-01-17 08:42:29.500000</td>\n",
       "      <td>2023-01-24 16:26:27</td>\n",
       "      <td>2023-02-01 00:56:53</td>\n",
       "      <td>NaN</td>\n",
       "    </tr>\n",
       "    <tr>\n",
       "      <th>tpep_dropoff_datetime</th>\n",
       "      <td>3066766</td>\n",
       "      <td>2023-01-17 00:38:06.427874</td>\n",
       "      <td>2009-01-01 14:29:11</td>\n",
       "      <td>2023-01-09 16:37:06</td>\n",
       "      <td>2023-01-17 08:58:30.500000</td>\n",
       "      <td>2023-01-24 16:42:49</td>\n",
       "      <td>2023-02-02 09:28:47</td>\n",
       "      <td>NaN</td>\n",
       "    </tr>\n",
       "    <tr>\n",
       "      <th>passenger_count</th>\n",
       "      <td>2995023.0</td>\n",
       "      <td>1.362532</td>\n",
       "      <td>0.0</td>\n",
       "      <td>1.0</td>\n",
       "      <td>1.0</td>\n",
       "      <td>1.0</td>\n",
       "      <td>9.0</td>\n",
       "      <td>0.89612</td>\n",
       "    </tr>\n",
       "    <tr>\n",
       "      <th>trip_distance</th>\n",
       "      <td>3066766.0</td>\n",
       "      <td>3.847342</td>\n",
       "      <td>0.0</td>\n",
       "      <td>1.06</td>\n",
       "      <td>1.8</td>\n",
       "      <td>3.33</td>\n",
       "      <td>258928.15</td>\n",
       "      <td>249.583756</td>\n",
       "    </tr>\n",
       "    <tr>\n",
       "      <th>RatecodeID</th>\n",
       "      <td>2995023.0</td>\n",
       "      <td>1.49744</td>\n",
       "      <td>1.0</td>\n",
       "      <td>1.0</td>\n",
       "      <td>1.0</td>\n",
       "      <td>1.0</td>\n",
       "      <td>99.0</td>\n",
       "      <td>6.474767</td>\n",
       "    </tr>\n",
       "    <tr>\n",
       "      <th>PULocationID</th>\n",
       "      <td>3066766.0</td>\n",
       "      <td>166.398046</td>\n",
       "      <td>1.0</td>\n",
       "      <td>132.0</td>\n",
       "      <td>162.0</td>\n",
       "      <td>234.0</td>\n",
       "      <td>265.0</td>\n",
       "      <td>64.244131</td>\n",
       "    </tr>\n",
       "    <tr>\n",
       "      <th>DOLocationID</th>\n",
       "      <td>3066766.0</td>\n",
       "      <td>164.392631</td>\n",
       "      <td>1.0</td>\n",
       "      <td>114.0</td>\n",
       "      <td>162.0</td>\n",
       "      <td>234.0</td>\n",
       "      <td>265.0</td>\n",
       "      <td>69.943682</td>\n",
       "    </tr>\n",
       "    <tr>\n",
       "      <th>payment_type</th>\n",
       "      <td>3066766.0</td>\n",
       "      <td>1.194483</td>\n",
       "      <td>0.0</td>\n",
       "      <td>1.0</td>\n",
       "      <td>1.0</td>\n",
       "      <td>1.0</td>\n",
       "      <td>4.0</td>\n",
       "      <td>0.529476</td>\n",
       "    </tr>\n",
       "    <tr>\n",
       "      <th>fare_amount</th>\n",
       "      <td>3066766.0</td>\n",
       "      <td>18.367069</td>\n",
       "      <td>-900.0</td>\n",
       "      <td>8.6</td>\n",
       "      <td>12.8</td>\n",
       "      <td>20.5</td>\n",
       "      <td>1160.1</td>\n",
       "      <td>17.807822</td>\n",
       "    </tr>\n",
       "    <tr>\n",
       "      <th>extra</th>\n",
       "      <td>3066766.0</td>\n",
       "      <td>1.537842</td>\n",
       "      <td>-7.5</td>\n",
       "      <td>0.0</td>\n",
       "      <td>1.0</td>\n",
       "      <td>2.5</td>\n",
       "      <td>12.5</td>\n",
       "      <td>1.789592</td>\n",
       "    </tr>\n",
       "    <tr>\n",
       "      <th>mta_tax</th>\n",
       "      <td>3066766.0</td>\n",
       "      <td>0.48829</td>\n",
       "      <td>-0.5</td>\n",
       "      <td>0.5</td>\n",
       "      <td>0.5</td>\n",
       "      <td>0.5</td>\n",
       "      <td>53.16</td>\n",
       "      <td>0.103464</td>\n",
       "    </tr>\n",
       "    <tr>\n",
       "      <th>tip_amount</th>\n",
       "      <td>3066766.0</td>\n",
       "      <td>3.367941</td>\n",
       "      <td>-96.22</td>\n",
       "      <td>1.0</td>\n",
       "      <td>2.72</td>\n",
       "      <td>4.2</td>\n",
       "      <td>380.8</td>\n",
       "      <td>3.826759</td>\n",
       "    </tr>\n",
       "    <tr>\n",
       "      <th>tolls_amount</th>\n",
       "      <td>3066766.0</td>\n",
       "      <td>0.518491</td>\n",
       "      <td>-65.0</td>\n",
       "      <td>0.0</td>\n",
       "      <td>0.0</td>\n",
       "      <td>0.0</td>\n",
       "      <td>196.99</td>\n",
       "      <td>2.017579</td>\n",
       "    </tr>\n",
       "    <tr>\n",
       "      <th>improvement_surcharge</th>\n",
       "      <td>3066766.0</td>\n",
       "      <td>0.982085</td>\n",
       "      <td>-1.0</td>\n",
       "      <td>1.0</td>\n",
       "      <td>1.0</td>\n",
       "      <td>1.0</td>\n",
       "      <td>1.0</td>\n",
       "      <td>0.183353</td>\n",
       "    </tr>\n",
       "    <tr>\n",
       "      <th>total_amount</th>\n",
       "      <td>3066766.0</td>\n",
       "      <td>27.020383</td>\n",
       "      <td>-751.0</td>\n",
       "      <td>15.4</td>\n",
       "      <td>20.16</td>\n",
       "      <td>28.7</td>\n",
       "      <td>1169.4</td>\n",
       "      <td>22.163589</td>\n",
       "    </tr>\n",
       "    <tr>\n",
       "      <th>congestion_surcharge</th>\n",
       "      <td>2995023.0</td>\n",
       "      <td>2.274231</td>\n",
       "      <td>-2.5</td>\n",
       "      <td>2.5</td>\n",
       "      <td>2.5</td>\n",
       "      <td>2.5</td>\n",
       "      <td>2.5</td>\n",
       "      <td>0.771845</td>\n",
       "    </tr>\n",
       "    <tr>\n",
       "      <th>airport_fee</th>\n",
       "      <td>2995023.0</td>\n",
       "      <td>0.107409</td>\n",
       "      <td>-1.25</td>\n",
       "      <td>0.0</td>\n",
       "      <td>0.0</td>\n",
       "      <td>0.0</td>\n",
       "      <td>1.25</td>\n",
       "      <td>0.355651</td>\n",
       "    </tr>\n",
       "  </tbody>\n",
       "</table>\n",
       "</div>"
      ],
      "text/plain": [
       "                           count                        mean  \\\n",
       "VendorID               3066766.0                    1.730215   \n",
       "tpep_pickup_datetime     3066766  2023-01-17 00:22:26.288164   \n",
       "tpep_dropoff_datetime    3066766  2023-01-17 00:38:06.427874   \n",
       "passenger_count        2995023.0                    1.362532   \n",
       "trip_distance          3066766.0                    3.847342   \n",
       "RatecodeID             2995023.0                     1.49744   \n",
       "PULocationID           3066766.0                  166.398046   \n",
       "DOLocationID           3066766.0                  164.392631   \n",
       "payment_type           3066766.0                    1.194483   \n",
       "fare_amount            3066766.0                   18.367069   \n",
       "extra                  3066766.0                    1.537842   \n",
       "mta_tax                3066766.0                     0.48829   \n",
       "tip_amount             3066766.0                    3.367941   \n",
       "tolls_amount           3066766.0                    0.518491   \n",
       "improvement_surcharge  3066766.0                    0.982085   \n",
       "total_amount           3066766.0                   27.020383   \n",
       "congestion_surcharge   2995023.0                    2.274231   \n",
       "airport_fee            2995023.0                    0.107409   \n",
       "\n",
       "                                       min                         25%  \\\n",
       "VendorID                               1.0                         1.0   \n",
       "tpep_pickup_datetime   2008-12-31 23:01:42  2023-01-09 16:21:57.250000   \n",
       "tpep_dropoff_datetime  2009-01-01 14:29:11         2023-01-09 16:37:06   \n",
       "passenger_count                        0.0                         1.0   \n",
       "trip_distance                          0.0                        1.06   \n",
       "RatecodeID                             1.0                         1.0   \n",
       "PULocationID                           1.0                       132.0   \n",
       "DOLocationID                           1.0                       114.0   \n",
       "payment_type                           0.0                         1.0   \n",
       "fare_amount                         -900.0                         8.6   \n",
       "extra                                 -7.5                         0.0   \n",
       "mta_tax                               -0.5                         0.5   \n",
       "tip_amount                          -96.22                         1.0   \n",
       "tolls_amount                         -65.0                         0.0   \n",
       "improvement_surcharge                 -1.0                         1.0   \n",
       "total_amount                        -751.0                        15.4   \n",
       "congestion_surcharge                  -2.5                         2.5   \n",
       "airport_fee                          -1.25                         0.0   \n",
       "\n",
       "                                              50%                  75%  \\\n",
       "VendorID                                      2.0                  2.0   \n",
       "tpep_pickup_datetime   2023-01-17 08:42:29.500000  2023-01-24 16:26:27   \n",
       "tpep_dropoff_datetime  2023-01-17 08:58:30.500000  2023-01-24 16:42:49   \n",
       "passenger_count                               1.0                  1.0   \n",
       "trip_distance                                 1.8                 3.33   \n",
       "RatecodeID                                    1.0                  1.0   \n",
       "PULocationID                                162.0                234.0   \n",
       "DOLocationID                                162.0                234.0   \n",
       "payment_type                                  1.0                  1.0   \n",
       "fare_amount                                  12.8                 20.5   \n",
       "extra                                         1.0                  2.5   \n",
       "mta_tax                                       0.5                  0.5   \n",
       "tip_amount                                   2.72                  4.2   \n",
       "tolls_amount                                  0.0                  0.0   \n",
       "improvement_surcharge                         1.0                  1.0   \n",
       "total_amount                                20.16                 28.7   \n",
       "congestion_surcharge                          2.5                  2.5   \n",
       "airport_fee                                   0.0                  0.0   \n",
       "\n",
       "                                       max         std  \n",
       "VendorID                               2.0    0.443848  \n",
       "tpep_pickup_datetime   2023-02-01 00:56:53         NaN  \n",
       "tpep_dropoff_datetime  2023-02-02 09:28:47         NaN  \n",
       "passenger_count                        9.0     0.89612  \n",
       "trip_distance                    258928.15  249.583756  \n",
       "RatecodeID                            99.0    6.474767  \n",
       "PULocationID                         265.0   64.244131  \n",
       "DOLocationID                         265.0   69.943682  \n",
       "payment_type                           4.0    0.529476  \n",
       "fare_amount                         1160.1   17.807822  \n",
       "extra                                 12.5    1.789592  \n",
       "mta_tax                              53.16    0.103464  \n",
       "tip_amount                           380.8    3.826759  \n",
       "tolls_amount                        196.99    2.017579  \n",
       "improvement_surcharge                  1.0    0.183353  \n",
       "total_amount                        1169.4   22.163589  \n",
       "congestion_surcharge                   2.5    0.771845  \n",
       "airport_fee                           1.25    0.355651  "
      ]
     },
     "execution_count": 7,
     "metadata": {},
     "output_type": "execute_result"
    }
   ],
   "source": [
    "df.describe().T"
   ]
  },
  {
   "cell_type": "markdown",
   "id": "37b2e94d",
   "metadata": {},
   "source": [
    "# Exploratory Data Analysis"
   ]
  },
  {
   "cell_type": "code",
   "execution_count": 8,
   "id": "4b7166ae",
   "metadata": {},
   "outputs": [],
   "source": [
    "# i want to analysis just the 2023 dataset\n",
    "dataset=dataset[dataset[\"tpep_pickup_datetime\"]>'2023']"
   ]
  },
  {
   "cell_type": "code",
   "execution_count": 9,
   "id": "ac2c1463",
   "metadata": {},
   "outputs": [
    {
     "data": {
      "text/plain": [
       "VendorID                     0\n",
       "tpep_pickup_datetime         0\n",
       "tpep_dropoff_datetime        0\n",
       "passenger_count          71742\n",
       "trip_distance                0\n",
       "RatecodeID               71742\n",
       "store_and_fwd_flag       71742\n",
       "PULocationID                 0\n",
       "DOLocationID                 0\n",
       "payment_type                 0\n",
       "fare_amount                  0\n",
       "extra                        0\n",
       "mta_tax                      0\n",
       "tip_amount                   0\n",
       "tolls_amount                 0\n",
       "improvement_surcharge        0\n",
       "total_amount                 0\n",
       "congestion_surcharge     71742\n",
       "airport_fee              71742\n",
       "dtype: int64"
      ]
     },
     "execution_count": 9,
     "metadata": {},
     "output_type": "execute_result"
    }
   ],
   "source": [
    "# check the null values\n",
    "dataset.isnull().sum()"
   ]
  },
  {
   "cell_type": "markdown",
   "id": "d31bfddc",
   "metadata": {},
   "source": [
    "## Feature Extraction for time"
   ]
  },
  {
   "cell_type": "code",
   "execution_count": 12,
   "id": "0a0f53cb",
   "metadata": {},
   "outputs": [],
   "source": [
    "dataset['weekdays'] = dataset['tpep_pickup_datetime'].dt.day_name()"
   ]
  },
  {
   "cell_type": "code",
   "execution_count": 13,
   "id": "c49d1e06",
   "metadata": {},
   "outputs": [],
   "source": [
    "dataset[\"month\"]=dataset['tpep_pickup_datetime'].dt.month"
   ]
  },
  {
   "cell_type": "code",
   "execution_count": 14,
   "id": "129b54f7",
   "metadata": {},
   "outputs": [
    {
     "data": {
      "text/plain": [
       "month\n",
       "1    2994955\n",
       "2         10\n",
       "Name: count, dtype: int64"
      ]
     },
     "execution_count": 14,
     "metadata": {},
     "output_type": "execute_result"
    }
   ],
   "source": [
    "dataset.month.value_counts()"
   ]
  },
  {
   "cell_type": "code",
   "execution_count": 15,
   "id": "44c89484",
   "metadata": {},
   "outputs": [],
   "source": [
    "dataset=dataset.loc[dataset[\"month\"]==1] # January"
   ]
  },
  {
   "cell_type": "code",
   "execution_count": 76,
   "id": "6dbd9caa",
   "metadata": {},
   "outputs": [],
   "source": [
    "dataset[\"days\"]=dataset['tpep_pickup_datetime'].dt.day "
   ]
  },
  {
   "cell_type": "markdown",
   "id": "9ac4e0ad",
   "metadata": {},
   "source": [
    "I want to know the hours of passengers were taken to understand the most and least hours to pick up. "
   ]
  },
  {
   "cell_type": "code",
   "execution_count": 16,
   "id": "07eee0c5",
   "metadata": {},
   "outputs": [],
   "source": [
    "dataset[\"hour_start\"]=dataset['tpep_pickup_datetime'].dt.hour\n",
    "dataset[\"hour_end\"]=dataset['tpep_dropoff_datetime'].dt.hour"
   ]
  },
  {
   "cell_type": "markdown",
   "id": "7c582b40",
   "metadata": {},
   "source": [
    "I wanted to know the trip duration, so I calculated the difference time of drop and pickup as a trip duration. It could help me find outlier trips, such as 0 duration.Some trip durations are wrong or unnumbered, so I added this feature to sort this column and find negative and zero minutes."
   ]
  },
  {
   "cell_type": "code",
   "execution_count": 17,
   "id": "20dbbbc0",
   "metadata": {},
   "outputs": [],
   "source": [
    "dataset['trip_duration'] = dataset['tpep_dropoff_datetime'] - dataset['tpep_pickup_datetime']"
   ]
  },
  {
   "cell_type": "code",
   "execution_count": 18,
   "id": "9a4ad4f1",
   "metadata": {},
   "outputs": [],
   "source": [
    "dataset['trip_duration_seconds'] = dataset['trip_duration'].dt.total_seconds()"
   ]
  },
  {
   "cell_type": "code",
   "execution_count": 19,
   "id": "061bc82b",
   "metadata": {},
   "outputs": [],
   "source": [
    "dataset['trip_duration_minutes'] = dataset['trip_duration'].dt.total_seconds()/60"
   ]
  },
  {
   "cell_type": "code",
   "execution_count": null,
   "id": "d69b6134",
   "metadata": {},
   "outputs": [],
   "source": [
    "dataset.sort_values(by=\"trip_duration_minutes\" , ascending=True).head(10)"
   ]
  },
  {
   "cell_type": "markdown",
   "id": "cc4d0fca",
   "metadata": {},
   "source": [
    "I found the zone file dataset on the website, and I want to map the real zone instead of numbers to know more about the locations. "
   ]
  },
  {
   "cell_type": "code",
   "execution_count": 24,
   "id": "a990dd65",
   "metadata": {},
   "outputs": [],
   "source": [
    "dataset[\"start_loc\"]=dataset[\"PULocationID\"].map(location.set_index(\"LocationID\")[\"Zone\"])\n",
    "dataset[\"end_loc\"]=dataset[\"DOLocationID\"].map(location.set_index(\"LocationID\")[\"Zone\"])"
   ]
  },
  {
   "cell_type": "markdown",
   "id": "5d302d9f",
   "metadata": {},
   "source": [
    "##  Data Cleaning "
   ]
  },
  {
   "cell_type": "markdown",
   "id": "d99568d1",
   "metadata": {},
   "source": [
    "The number of missing values for the passenger count feature is high because the rider filled this item, so they forgot to fill it. We can handle missing values by different techniques like drop or replace by imputing.\n",
    "On the other hand, this method may not be usable for zone features.\n",
    "The value count of the passenger count feature showed the number of 0 is high. I can replace 0 passengers with 1 because the trip happened."
   ]
  },
  {
   "cell_type": "code",
   "execution_count": 35,
   "id": "c5df86ff",
   "metadata": {},
   "outputs": [],
   "source": [
    "dataset[\"passenger_count\"]=dataset.passenger_count.map(lambda x:1 if x==0 else x)"
   ]
  },
  {
   "cell_type": "markdown",
   "id": "5c40d6aa",
   "metadata": {},
   "source": [
    "If we consider some of the passengers as a child, the sum of passengers can not be more than six passengers in a taxi "
   ]
  },
  {
   "cell_type": "code",
   "execution_count": 36,
   "id": "c05562c0",
   "metadata": {},
   "outputs": [],
   "source": [
    "dataset=dataset.loc[dataset[\"passenger_count\"]<7]"
   ]
  },
  {
   "cell_type": "markdown",
   "id": "47c65b4e",
   "metadata": {},
   "source": [
    "I dropped them on some trips where the duration was 0, and the start and end locations were the same. And a trip duration of less than 2 minutes is not actual for far distances. I checked for some travel."
   ]
  },
  {
   "cell_type": "code",
   "execution_count": 37,
   "id": "fec04c8c",
   "metadata": {},
   "outputs": [],
   "source": [
    "dataset=dataset.loc[dataset[\"trip_distance\"] > 0] # January"
   ]
  },
  {
   "cell_type": "code",
   "execution_count": 38,
   "id": "ebb5b61d",
   "metadata": {},
   "outputs": [],
   "source": [
    "dataset=dataset.loc[dataset[\"start_loc\"]!=dataset[\"end_loc\"]]"
   ]
  },
  {
   "cell_type": "markdown",
   "id": "ca4f65cc",
   "metadata": {},
   "source": [
    "but it is not enough i need  having more insight about the time so i need a histogram to check the outliers"
   ]
  },
  {
   "cell_type": "code",
   "execution_count": 39,
   "id": "2b8d44a1",
   "metadata": {},
   "outputs": [
    {
     "data": {
      "image/png": "[encoded data removed]",
      "text/plain": [
       "<Figure size 720x576 with 1 Axes>"
      ]
     },
     "metadata": {
      "needs_background": "light"
     },
     "output_type": "display_data"
    }
   ],
   "source": [
    "plt.figure(figsize=(10, 8))\n",
    "plt.boxplot(x=dataset['trip_duration_minutes'])\n",
    "plt.title('Trip Duration Box Plot')\n",
    "plt.xlabel('Duration (minutes)')\n",
    "plt.show()"
   ]
  },
  {
   "cell_type": "code",
   "execution_count": 41,
   "id": "cfeea6d0",
   "metadata": {},
   "outputs": [],
   "source": [
    "dataset = dataset.loc[(dataset['trip_duration_minutes'] > 1) & (dataset['trip_duration_minutes'] < 4000)]"
   ]
  },
  {
   "cell_type": "markdown",
   "id": "6d6308e6",
   "metadata": {},
   "source": [
    "## Feature selection"
   ]
  },
  {
   "cell_type": "markdown",
   "id": "f067fce7",
   "metadata": {},
   "source": [
    "in this section i decided to clean data to the trip duration which are more than 2 minutes because i checked it is not possible to travel from west village to Times Square in one minute."
   ]
  },
  {
   "cell_type": "code",
   "execution_count": 89,
   "id": "bfcb9f7d",
   "metadata": {},
   "outputs": [],
   "source": [
    "my_dataset=dataset.copy()"
   ]
  },
  {
   "cell_type": "code",
   "execution_count": 90,
   "id": "7ad54108",
   "metadata": {},
   "outputs": [
    {
     "data": {
      "text/plain": [
       "(2820726, 29)"
      ]
     },
     "execution_count": 90,
     "metadata": {},
     "output_type": "execute_result"
    }
   ],
   "source": [
    "my_dataset.shape"
   ]
  },
  {
   "cell_type": "code",
   "execution_count": 91,
   "id": "834a1dc9",
   "metadata": {},
   "outputs": [
    {
     "data": {
      "text/plain": [
       "Index(['VendorID', 'tpep_pickup_datetime', 'tpep_dropoff_datetime',\n",
       "       'passenger_count', 'trip_distance', 'RatecodeID', 'store_and_fwd_flag',\n",
       "       'PULocationID', 'DOLocationID', 'payment_type', 'fare_amount', 'extra',\n",
       "       'mta_tax', 'tip_amount', 'tolls_amount', 'improvement_surcharge',\n",
       "       'total_amount', 'congestion_surcharge', 'airport_fee', 'weekdays',\n",
       "       'month', 'hour_start', 'hour_end', 'trip_duration',\n",
       "       'trip_duration_seconds', 'trip_duration_minutes', 'start_loc',\n",
       "       'end_loc', 'days'],\n",
       "      dtype='object')"
      ]
     },
     "execution_count": 91,
     "metadata": {},
     "output_type": "execute_result"
    }
   ],
   "source": [
    "my_dataset.columns"
   ]
  },
  {
   "cell_type": "markdown",
   "id": "dc23c8a7",
   "metadata": {},
   "source": [
    "Some features are not necessary, so I dropped them from the dataset. "
   ]
  },
  {
   "cell_type": "code",
   "execution_count": 92,
   "id": "8d89d4d1",
   "metadata": {},
   "outputs": [],
   "source": [
    "my_dataset.drop(columns=(['VendorID', 'tpep_dropoff_datetime',\"trip_duration\",\"trip_duration_seconds\", \"trip_duration_minutes\"\n",
    "       , 'trip_distance', 'RatecodeID', 'store_and_fwd_flag',\n",
    "        'DOLocationID', 'payment_type', 'fare_amount', 'extra',\n",
    "       'mta_tax', 'tip_amount', 'tolls_amount', 'improvement_surcharge',\n",
    "       'total_amount', 'congestion_surcharge', 'airport_fee']) , inplace=True)"
   ]
  },
  {
   "cell_type": "markdown",
   "id": "1416e873",
   "metadata": {},
   "source": [
    "## Visualization Data "
   ]
  },
  {
   "cell_type": "code",
   "execution_count": 93,
   "id": "2f8cc51a",
   "metadata": {},
   "outputs": [
    {
     "data": {
      "image/png": "[encoded data removed]",
      "text/plain": [
       "<Figure size 720x432 with 1 Axes>"
      ]
     },
     "metadata": {
      "needs_background": "light"
     },
     "output_type": "display_data"
    }
   ],
   "source": [
    "group_weekdays= dataset.groupby('weekdays')['trip_duration_minutes'].mean().reset_index()\n",
    "\n",
    "weekday_order = ['Saturday', 'Sunday','Monday', 'Tuesday', 'Wednesday', 'Thursday', 'Friday' ]\n",
    "plt.figure(figsize=(10, 6))\n",
    "sns.pointplot(data=group_weekdays, x='weekdays', y='trip_duration_minutes', order=weekday_order)\n",
    "plt.ylabel('Average Trip Duration (minutes)')\n",
    "plt.xlabel('Weekday')\n",
    "plt.title('Average Trip Duration by Weekday')\n",
    "plt.show()"
   ]
  },
  {
   "cell_type": "code",
   "execution_count": 94,
   "id": "a71631c2",
   "metadata": {},
   "outputs": [
    {
     "data": {
      "image/png": "[encoded data removed]",
      "text/plain": [
       "<Figure size 720x432 with 1 Axes>"
      ]
     },
     "metadata": {
      "needs_background": "light"
     },
     "output_type": "display_data"
    }
   ],
   "source": [
    "group_days = dataset.groupby('days')['trip_duration_minutes'].mean().reset_index()\n",
    "plt.figure(figsize=(10, 6))\n",
    "sns.pointplot(data=group_days, x='days', y='trip_duration_minutes')\n",
    "plt.ylabel('Average Trip Duration (minutes)')\n",
    "plt.xlabel('Days of January')\n",
    "plt.title('Average Trip Duration in January')\n",
    "plt.show()"
   ]
  },
  {
   "cell_type": "code",
   "execution_count": 95,
   "id": "d28666d7",
   "metadata": {},
   "outputs": [
    {
     "data": {
      "image/png": "[encoded data removed]",
      "text/plain": [
       "<Figure size 720x432 with 1 Axes>"
      ]
     },
     "metadata": {
      "needs_background": "light"
     },
     "output_type": "display_data"
    }
   ],
   "source": [
    "group_weekdays= my_dataset.groupby('weekdays')['passenger_count'].count().reset_index()\n",
    "\n",
    "weekday_order = ['Saturday', 'Sunday','Monday', 'Tuesday', 'Wednesday', 'Thursday', 'Friday' ]\n",
    "plt.figure(figsize=(10, 6))\n",
    "sns.pointplot(data=group_weekdays, x='weekdays', y='passenger_count', order=weekday_order)\n",
    "plt.ylabel('Count passengers')\n",
    "plt.xlabel('Weekday')\n",
    "plt.title('count of Trips Duration by Weekday')\n",
    "plt.show()"
   ]
  },
  {
   "cell_type": "code",
   "execution_count": 96,
   "id": "7efa485c",
   "metadata": {},
   "outputs": [
    {
     "data": {
      "image/png": "[encoded data removed]",
      "text/plain": [
       "<Figure size 720x432 with 1 Axes>"
      ]
     },
     "metadata": {
      "needs_background": "light"
     },
     "output_type": "display_data"
    }
   ],
   "source": [
    "group_weekdays= dataset.groupby('days')['passenger_count'].count().reset_index()\n",
    "\n",
    "plt.figure(figsize=(10, 6))\n",
    "sns.pointplot(data=group_weekdays, x='days', y='passenger_count')\n",
    "plt.ylabel('Count trips')\n",
    "plt.xlabel('Weekday')\n",
    "plt.title('Count of Trips by days in January')\n",
    "plt.show()"
   ]
  },
  {
   "cell_type": "code",
   "execution_count": 97,
   "id": "ed6a1690",
   "metadata": {},
   "outputs": [
    {
     "data": {
      "text/plain": [
       "<AxesSubplot:xlabel='weekdays'>"
      ]
     },
     "execution_count": 97,
     "metadata": {},
     "output_type": "execute_result"
    },
    {
     "data": {
      "image/png": "[encoded data removed]",
      "text/plain": [
       "<Figure size 432x288 with 1 Axes>"
      ]
     },
     "metadata": {
      "needs_background": "light"
     },
     "output_type": "display_data"
    }
   ],
   "source": [
    "result=my_dataset.groupby(\"weekdays\")[\"passenger_count\"].count()\n",
    "result_sort=result.sort_values(ascending=False)\n",
    "sns.barplot(x=result_sort.index, y=result_sort.values)\n",
    "#As you see most trips are on Tuesday"
   ]
  },
  {
   "cell_type": "code",
   "execution_count": 98,
   "id": "cfe4dbc3",
   "metadata": {},
   "outputs": [
    {
     "data": {
      "text/plain": [
       "start_loc\n",
       "JFK Airport                     151829\n",
       "Upper East Side South           130762\n",
       "Midtown Center                  127526\n",
       "Upper East Side North           120001\n",
       "Penn Station/Madison Sq West    106523\n",
       "                                 ...  \n",
       "Arrochar/Fort Wadsworth              2\n",
       "West Brighton                        1\n",
       "Rossville/Woodrow                    1\n",
       "Great Kills                          1\n",
       "Stapleton                            1\n",
       "Name: passenger_count, Length: 251, dtype: int64"
      ]
     },
     "execution_count": 98,
     "metadata": {},
     "output_type": "execute_result"
    }
   ],
   "source": [
    "resul_location_origin=my_dataset.groupby(\"start_loc\")[\"passenger_count\"].count()\n",
    "resul_location_origin.sort_values(ascending=False)\n",
    "#  Most passengers were picked up at JFK Airport, Upper East Side South, Midtown Center and Upper East Side North. "
   ]
  },
  {
   "cell_type": "code",
   "execution_count": 99,
   "id": "6dad53a5",
   "metadata": {},
   "outputs": [
    {
     "data": {
      "text/plain": [
       "end_loc\n",
       "Upper East Side North                            127946\n",
       "Upper East Side South                            115029\n",
       "Midtown Center                                   107641\n",
       "Times Sq/Theatre District                         84214\n",
       "Murray Hill                                       83384\n",
       "                                                  ...  \n",
       "Port Richmond                                        14\n",
       "Eltingville/Annadale/Prince's Bay                    14\n",
       "Rossville/Woodrow                                    13\n",
       "Freshkills Park                                       2\n",
       "Governor's Island/Ellis Island/Liberty Island         1\n",
       "Name: passenger_count, Length: 259, dtype: int64"
      ]
     },
     "execution_count": 99,
     "metadata": {},
     "output_type": "execute_result"
    }
   ],
   "source": [
    "resul_location_destination=my_dataset.groupby(\"end_loc\")[\"passenger_count\"].count()\n",
    "resul_location_destination_sort=resul_location_destination.sort_values(ascending=False)\n",
    "resul_location_destination_sort\n",
    "#Most passengers were dropped off at the Upper East Side North, Upper East Side South and Midtown Center."
   ]
  },
  {
   "cell_type": "markdown",
   "id": "ccf9a225",
   "metadata": {},
   "source": [
    "As the graph shows the least hours are from 3 till 5 am, and then there is an upward trend and the most crowded hours for taking a taxi are around 17 and 18, and after that, it decreases."
   ]
  },
  {
   "cell_type": "code",
   "execution_count": 100,
   "id": "ccecc59c",
   "metadata": {},
   "outputs": [
    {
     "data": {
      "text/plain": [
       "<AxesSubplot:xlabel='hour_start'>"
      ]
     },
     "execution_count": 100,
     "metadata": {},
     "output_type": "execute_result"
    },
    {
     "data": {
      "image/png": "[encoded data removed]",
      "text/plain": [
       "<Figure size 432x288 with 1 Axes>"
      ]
     },
     "metadata": {
      "needs_background": "light"
     },
     "output_type": "display_data"
    }
   ],
   "source": [
    "result=my_dataset.groupby(\"hour_start\")[\"passenger_count\"].count()\n",
    "result_sort=result.sort_values(ascending=False)\n",
    "sns.barplot(x=result_sort.index, y=result_sort.values)"
   ]
  },
  {
   "cell_type": "code",
   "execution_count": 101,
   "id": "ef4d7a61",
   "metadata": {},
   "outputs": [
    {
     "data": {
      "text/html": [
       "<div>\n",
       "<style scoped>\n",
       "    .dataframe tbody tr th:only-of-type {\n",
       "        vertical-align: middle;\n",
       "    }\n",
       "\n",
       "    .dataframe tbody tr th {\n",
       "        vertical-align: top;\n",
       "    }\n",
       "\n",
       "    .dataframe thead th {\n",
       "        text-align: right;\n",
       "    }\n",
       "</style>\n",
       "<table border=\"1\" class=\"dataframe\">\n",
       "  <thead>\n",
       "    <tr style=\"text-align: right;\">\n",
       "      <th></th>\n",
       "      <th>tpep_pickup_datetime</th>\n",
       "      <th>passenger_count</th>\n",
       "      <th>PULocationID</th>\n",
       "      <th>weekdays</th>\n",
       "      <th>month</th>\n",
       "      <th>hour_start</th>\n",
       "      <th>hour_end</th>\n",
       "      <th>start_loc</th>\n",
       "      <th>end_loc</th>\n",
       "      <th>days</th>\n",
       "    </tr>\n",
       "  </thead>\n",
       "  <tbody>\n",
       "    <tr>\n",
       "      <th>581638</th>\n",
       "      <td>2023-01-07 18:23:52</td>\n",
       "      <td>1.0</td>\n",
       "      <td>230</td>\n",
       "      <td>Saturday</td>\n",
       "      <td>1</td>\n",
       "      <td>18</td>\n",
       "      <td>18</td>\n",
       "      <td>Times Sq/Theatre District</td>\n",
       "      <td>Midtown North</td>\n",
       "      <td>7</td>\n",
       "    </tr>\n",
       "    <tr>\n",
       "      <th>2873361</th>\n",
       "      <td>2023-01-30 18:19:47</td>\n",
       "      <td>1.0</td>\n",
       "      <td>48</td>\n",
       "      <td>Monday</td>\n",
       "      <td>1</td>\n",
       "      <td>18</td>\n",
       "      <td>18</td>\n",
       "      <td>Clinton East</td>\n",
       "      <td>Midtown North</td>\n",
       "      <td>30</td>\n",
       "    </tr>\n",
       "    <tr>\n",
       "      <th>2472690</th>\n",
       "      <td>2023-01-26 18:52:46</td>\n",
       "      <td>1.0</td>\n",
       "      <td>238</td>\n",
       "      <td>Thursday</td>\n",
       "      <td>1</td>\n",
       "      <td>18</td>\n",
       "      <td>18</td>\n",
       "      <td>Upper West Side North</td>\n",
       "      <td>Upper West Side South</td>\n",
       "      <td>26</td>\n",
       "    </tr>\n",
       "    <tr>\n",
       "      <th>2084502</th>\n",
       "      <td>2023-01-22 18:03:13</td>\n",
       "      <td>1.0</td>\n",
       "      <td>230</td>\n",
       "      <td>Sunday</td>\n",
       "      <td>1</td>\n",
       "      <td>18</td>\n",
       "      <td>18</td>\n",
       "      <td>Times Sq/Theatre District</td>\n",
       "      <td>Clinton East</td>\n",
       "      <td>22</td>\n",
       "    </tr>\n",
       "    <tr>\n",
       "      <th>1767786</th>\n",
       "      <td>2023-01-19 18:51:10</td>\n",
       "      <td>1.0</td>\n",
       "      <td>237</td>\n",
       "      <td>Thursday</td>\n",
       "      <td>1</td>\n",
       "      <td>18</td>\n",
       "      <td>18</td>\n",
       "      <td>Upper East Side South</td>\n",
       "      <td>Midtown East</td>\n",
       "      <td>19</td>\n",
       "    </tr>\n",
       "    <tr>\n",
       "      <th>...</th>\n",
       "      <td>...</td>\n",
       "      <td>...</td>\n",
       "      <td>...</td>\n",
       "      <td>...</td>\n",
       "      <td>...</td>\n",
       "      <td>...</td>\n",
       "      <td>...</td>\n",
       "      <td>...</td>\n",
       "      <td>...</td>\n",
       "      <td>...</td>\n",
       "    </tr>\n",
       "    <tr>\n",
       "      <th>1872938</th>\n",
       "      <td>2023-01-20 18:41:34</td>\n",
       "      <td>1.0</td>\n",
       "      <td>236</td>\n",
       "      <td>Friday</td>\n",
       "      <td>1</td>\n",
       "      <td>18</td>\n",
       "      <td>18</td>\n",
       "      <td>Upper East Side North</td>\n",
       "      <td>Upper East Side South</td>\n",
       "      <td>20</td>\n",
       "    </tr>\n",
       "    <tr>\n",
       "      <th>2168680</th>\n",
       "      <td>2023-01-23 18:08:24</td>\n",
       "      <td>1.0</td>\n",
       "      <td>262</td>\n",
       "      <td>Monday</td>\n",
       "      <td>1</td>\n",
       "      <td>18</td>\n",
       "      <td>18</td>\n",
       "      <td>Yorkville East</td>\n",
       "      <td>Flushing Meadows-Corona Park</td>\n",
       "      <td>23</td>\n",
       "    </tr>\n",
       "    <tr>\n",
       "      <th>1063401</th>\n",
       "      <td>2023-01-12 18:57:20</td>\n",
       "      <td>1.0</td>\n",
       "      <td>68</td>\n",
       "      <td>Thursday</td>\n",
       "      <td>1</td>\n",
       "      <td>18</td>\n",
       "      <td>18</td>\n",
       "      <td>East Chelsea</td>\n",
       "      <td>Upper West Side North</td>\n",
       "      <td>12</td>\n",
       "    </tr>\n",
       "    <tr>\n",
       "      <th>2966381</th>\n",
       "      <td>2023-01-31 18:22:37</td>\n",
       "      <td>1.0</td>\n",
       "      <td>142</td>\n",
       "      <td>Tuesday</td>\n",
       "      <td>1</td>\n",
       "      <td>18</td>\n",
       "      <td>18</td>\n",
       "      <td>Lincoln Square East</td>\n",
       "      <td>Penn Station/Madison Sq West</td>\n",
       "      <td>31</td>\n",
       "    </tr>\n",
       "    <tr>\n",
       "      <th>2472976</th>\n",
       "      <td>2023-01-26 18:52:37</td>\n",
       "      <td>5.0</td>\n",
       "      <td>236</td>\n",
       "      <td>Thursday</td>\n",
       "      <td>1</td>\n",
       "      <td>18</td>\n",
       "      <td>18</td>\n",
       "      <td>Upper East Side North</td>\n",
       "      <td>Penn Station/Madison Sq West</td>\n",
       "      <td>26</td>\n",
       "    </tr>\n",
       "  </tbody>\n",
       "</table>\n",
       "<p>198224 rows × 10 columns</p>\n",
       "</div>"
      ],
      "text/plain": [
       "        tpep_pickup_datetime  passenger_count  PULocationID  weekdays  month  \\\n",
       "581638   2023-01-07 18:23:52              1.0           230  Saturday      1   \n",
       "2873361  2023-01-30 18:19:47              1.0            48    Monday      1   \n",
       "2472690  2023-01-26 18:52:46              1.0           238  Thursday      1   \n",
       "2084502  2023-01-22 18:03:13              1.0           230    Sunday      1   \n",
       "1767786  2023-01-19 18:51:10              1.0           237  Thursday      1   \n",
       "...                      ...              ...           ...       ...    ...   \n",
       "1872938  2023-01-20 18:41:34              1.0           236    Friday      1   \n",
       "2168680  2023-01-23 18:08:24              1.0           262    Monday      1   \n",
       "1063401  2023-01-12 18:57:20              1.0            68  Thursday      1   \n",
       "2966381  2023-01-31 18:22:37              1.0           142   Tuesday      1   \n",
       "2472976  2023-01-26 18:52:37              5.0           236  Thursday      1   \n",
       "\n",
       "         hour_start  hour_end                  start_loc  \\\n",
       "581638           18        18  Times Sq/Theatre District   \n",
       "2873361          18        18               Clinton East   \n",
       "2472690          18        18      Upper West Side North   \n",
       "2084502          18        18  Times Sq/Theatre District   \n",
       "1767786          18        18      Upper East Side South   \n",
       "...             ...       ...                        ...   \n",
       "1872938          18        18      Upper East Side North   \n",
       "2168680          18        18             Yorkville East   \n",
       "1063401          18        18               East Chelsea   \n",
       "2966381          18        18        Lincoln Square East   \n",
       "2472976          18        18      Upper East Side North   \n",
       "\n",
       "                              end_loc  days  \n",
       "581638                  Midtown North     7  \n",
       "2873361                 Midtown North    30  \n",
       "2472690         Upper West Side South    26  \n",
       "2084502                  Clinton East    22  \n",
       "1767786                  Midtown East    19  \n",
       "...                               ...   ...  \n",
       "1872938         Upper East Side South    20  \n",
       "2168680  Flushing Meadows-Corona Park    23  \n",
       "1063401         Upper West Side North    12  \n",
       "2966381  Penn Station/Madison Sq West    31  \n",
       "2472976  Penn Station/Madison Sq West    26  \n",
       "\n",
       "[198224 rows x 10 columns]"
      ]
     },
     "execution_count": 101,
     "metadata": {},
     "output_type": "execute_result"
    }
   ],
   "source": [
    "hourly_passenger_counts = my_dataset.groupby('hour_start')['passenger_count'].count()\n",
    "hour_with_most_passengers = hourly_passenger_counts.idxmax()\n",
    "most_passenger_hour_data = my_dataset[my_dataset['hour_start'] == hour_with_most_passengers]\n",
    "most_passenger_hour_data\n",
    "# The most trips  are at 6 pm "
   ]
  },
  {
   "cell_type": "code",
   "execution_count": 102,
   "id": "b545c666",
   "metadata": {},
   "outputs": [
    {
     "data": {
      "text/plain": [
       "'Midtown Center'"
      ]
     },
     "execution_count": 102,
     "metadata": {},
     "output_type": "execute_result"
    }
   ],
   "source": [
    "most_pickup_locations = most_passenger_hour_data['start_loc'].value_counts()\n",
    "most_pickup_locations=most_pickup_locations.idxmax()\n",
    "most_pickup_locations\n",
    "# The crowded location at 6 pm is the midtown center"
   ]
  },
  {
   "cell_type": "code",
   "execution_count": 103,
   "id": "7a1dba21",
   "metadata": {},
   "outputs": [],
   "source": [
    "most_days_locations=my_dataset[my_dataset[\"start_loc\"]==most_pickup_locations]"
   ]
  },
  {
   "cell_type": "code",
   "execution_count": 104,
   "id": "dfe0177e",
   "metadata": {},
   "outputs": [
    {
     "data": {
      "text/plain": [
       "'Tuesday'"
      ]
     },
     "execution_count": 104,
     "metadata": {},
     "output_type": "execute_result"
    }
   ],
   "source": [
    "most_days_locations = most_days_locations['weekdays'].value_counts()\n",
    "most_days_locations.idxmax()\n",
    "# The crowded location at 6 pm is the midtown center and on Tuesday "
   ]
  },
  {
   "cell_type": "code",
   "execution_count": 105,
   "id": "1d9628f0",
   "metadata": {},
   "outputs": [
    {
     "data": {
      "text/plain": [
       "tpep_pickup_datetime       0\n",
       "passenger_count            0\n",
       "PULocationID               0\n",
       "weekdays                   0\n",
       "month                      0\n",
       "hour_start                 0\n",
       "hour_end                   0\n",
       "start_loc                337\n",
       "end_loc                 9529\n",
       "days                       0\n",
       "dtype: int64"
      ]
     },
     "execution_count": 105,
     "metadata": {},
     "output_type": "execute_result"
    }
   ],
   "source": [
    "my_dataset.isnull().sum()"
   ]
  },
  {
   "cell_type": "code",
   "execution_count": 106,
   "id": "191a2260",
   "metadata": {},
   "outputs": [
    {
     "data": {
      "text/html": [
       "<div>\n",
       "<style scoped>\n",
       "    .dataframe tbody tr th:only-of-type {\n",
       "        vertical-align: middle;\n",
       "    }\n",
       "\n",
       "    .dataframe tbody tr th {\n",
       "        vertical-align: top;\n",
       "    }\n",
       "\n",
       "    .dataframe thead th {\n",
       "        text-align: right;\n",
       "    }\n",
       "</style>\n",
       "<table border=\"1\" class=\"dataframe\">\n",
       "  <thead>\n",
       "    <tr style=\"text-align: right;\">\n",
       "      <th></th>\n",
       "      <th>tpep_pickup_datetime</th>\n",
       "      <th>passenger_count</th>\n",
       "      <th>PULocationID</th>\n",
       "      <th>weekdays</th>\n",
       "      <th>month</th>\n",
       "      <th>hour_start</th>\n",
       "      <th>hour_end</th>\n",
       "      <th>start_loc</th>\n",
       "      <th>end_loc</th>\n",
       "      <th>days</th>\n",
       "    </tr>\n",
       "  </thead>\n",
       "  <tbody>\n",
       "    <tr>\n",
       "      <th>970805</th>\n",
       "      <td>2023-01-11 21:24:55</td>\n",
       "      <td>1.0</td>\n",
       "      <td>68</td>\n",
       "      <td>Wednesday</td>\n",
       "      <td>1</td>\n",
       "      <td>21</td>\n",
       "      <td>21</td>\n",
       "      <td>East Chelsea</td>\n",
       "      <td>West Chelsea/Hudson Yards</td>\n",
       "      <td>11</td>\n",
       "    </tr>\n",
       "    <tr>\n",
       "      <th>1408520</th>\n",
       "      <td>2023-01-16 00:10:22</td>\n",
       "      <td>1.0</td>\n",
       "      <td>74</td>\n",
       "      <td>Monday</td>\n",
       "      <td>1</td>\n",
       "      <td>0</td>\n",
       "      <td>0</td>\n",
       "      <td>East Harlem North</td>\n",
       "      <td>East Harlem South</td>\n",
       "      <td>16</td>\n",
       "    </tr>\n",
       "    <tr>\n",
       "      <th>369781</th>\n",
       "      <td>2023-01-05 16:01:01</td>\n",
       "      <td>1.0</td>\n",
       "      <td>236</td>\n",
       "      <td>Thursday</td>\n",
       "      <td>1</td>\n",
       "      <td>16</td>\n",
       "      <td>16</td>\n",
       "      <td>Upper East Side North</td>\n",
       "      <td>Yorkville West</td>\n",
       "      <td>5</td>\n",
       "    </tr>\n",
       "    <tr>\n",
       "      <th>2518068</th>\n",
       "      <td>2023-01-27 06:59:03</td>\n",
       "      <td>1.0</td>\n",
       "      <td>68</td>\n",
       "      <td>Friday</td>\n",
       "      <td>1</td>\n",
       "      <td>6</td>\n",
       "      <td>7</td>\n",
       "      <td>East Chelsea</td>\n",
       "      <td>Flatiron</td>\n",
       "      <td>27</td>\n",
       "    </tr>\n",
       "    <tr>\n",
       "      <th>2653844</th>\n",
       "      <td>2023-01-28 12:21:30</td>\n",
       "      <td>1.0</td>\n",
       "      <td>79</td>\n",
       "      <td>Saturday</td>\n",
       "      <td>1</td>\n",
       "      <td>12</td>\n",
       "      <td>12</td>\n",
       "      <td>East Village</td>\n",
       "      <td>Gramercy</td>\n",
       "      <td>28</td>\n",
       "    </tr>\n",
       "  </tbody>\n",
       "</table>\n",
       "</div>"
      ],
      "text/plain": [
       "        tpep_pickup_datetime  passenger_count  PULocationID   weekdays  month  \\\n",
       "970805   2023-01-11 21:24:55              1.0            68  Wednesday      1   \n",
       "1408520  2023-01-16 00:10:22              1.0            74     Monday      1   \n",
       "369781   2023-01-05 16:01:01              1.0           236   Thursday      1   \n",
       "2518068  2023-01-27 06:59:03              1.0            68     Friday      1   \n",
       "2653844  2023-01-28 12:21:30              1.0            79   Saturday      1   \n",
       "\n",
       "         hour_start  hour_end              start_loc  \\\n",
       "970805           21        21           East Chelsea   \n",
       "1408520           0         0      East Harlem North   \n",
       "369781           16        16  Upper East Side North   \n",
       "2518068           6         7           East Chelsea   \n",
       "2653844          12        12           East Village   \n",
       "\n",
       "                           end_loc  days  \n",
       "970805   West Chelsea/Hudson Yards    11  \n",
       "1408520          East Harlem South    16  \n",
       "369781              Yorkville West     5  \n",
       "2518068                   Flatiron    27  \n",
       "2653844                   Gramercy    28  "
      ]
     },
     "execution_count": 106,
     "metadata": {},
     "output_type": "execute_result"
    }
   ],
   "source": [
    "my_dataset.head()"
   ]
  },
  {
   "cell_type": "code",
   "execution_count": 107,
   "id": "2fd14d62",
   "metadata": {},
   "outputs": [
    {
     "data": {
      "text/html": [
       "<div>\n",
       "<style scoped>\n",
       "    .dataframe tbody tr th:only-of-type {\n",
       "        vertical-align: middle;\n",
       "    }\n",
       "\n",
       "    .dataframe tbody tr th {\n",
       "        vertical-align: top;\n",
       "    }\n",
       "\n",
       "    .dataframe thead th {\n",
       "        text-align: right;\n",
       "    }\n",
       "</style>\n",
       "<table border=\"1\" class=\"dataframe\">\n",
       "  <thead>\n",
       "    <tr style=\"text-align: right;\">\n",
       "      <th></th>\n",
       "      <th>tpep_pickup_datetime</th>\n",
       "      <th>passenger_count</th>\n",
       "      <th>PULocationID</th>\n",
       "      <th>weekdays</th>\n",
       "      <th>month</th>\n",
       "      <th>hour_start</th>\n",
       "      <th>hour_end</th>\n",
       "      <th>start_loc</th>\n",
       "      <th>end_loc</th>\n",
       "      <th>days</th>\n",
       "    </tr>\n",
       "  </thead>\n",
       "  <tbody>\n",
       "    <tr>\n",
       "      <th>171323</th>\n",
       "      <td>2023-01-03 13:18:11</td>\n",
       "      <td>1.0</td>\n",
       "      <td>265</td>\n",
       "      <td>Tuesday</td>\n",
       "      <td>1</td>\n",
       "      <td>13</td>\n",
       "      <td>13</td>\n",
       "      <td>NaN</td>\n",
       "      <td>NaN</td>\n",
       "      <td>3</td>\n",
       "    </tr>\n",
       "    <tr>\n",
       "      <th>77946</th>\n",
       "      <td>2023-01-02 07:35:02</td>\n",
       "      <td>1.0</td>\n",
       "      <td>265</td>\n",
       "      <td>Monday</td>\n",
       "      <td>1</td>\n",
       "      <td>7</td>\n",
       "      <td>7</td>\n",
       "      <td>NaN</td>\n",
       "      <td>NaN</td>\n",
       "      <td>2</td>\n",
       "    </tr>\n",
       "    <tr>\n",
       "      <th>2391378</th>\n",
       "      <td>2023-01-25 22:44:27</td>\n",
       "      <td>1.0</td>\n",
       "      <td>265</td>\n",
       "      <td>Wednesday</td>\n",
       "      <td>1</td>\n",
       "      <td>22</td>\n",
       "      <td>22</td>\n",
       "      <td>NaN</td>\n",
       "      <td>NaN</td>\n",
       "      <td>25</td>\n",
       "    </tr>\n",
       "    <tr>\n",
       "      <th>2132929</th>\n",
       "      <td>2023-01-23 12:15:11</td>\n",
       "      <td>1.0</td>\n",
       "      <td>265</td>\n",
       "      <td>Monday</td>\n",
       "      <td>1</td>\n",
       "      <td>12</td>\n",
       "      <td>12</td>\n",
       "      <td>NaN</td>\n",
       "      <td>NaN</td>\n",
       "      <td>23</td>\n",
       "    </tr>\n",
       "    <tr>\n",
       "      <th>2648007</th>\n",
       "      <td>2023-01-28 10:15:07</td>\n",
       "      <td>1.0</td>\n",
       "      <td>265</td>\n",
       "      <td>Saturday</td>\n",
       "      <td>1</td>\n",
       "      <td>10</td>\n",
       "      <td>10</td>\n",
       "      <td>NaN</td>\n",
       "      <td>NaN</td>\n",
       "      <td>28</td>\n",
       "    </tr>\n",
       "    <tr>\n",
       "      <th>...</th>\n",
       "      <td>...</td>\n",
       "      <td>...</td>\n",
       "      <td>...</td>\n",
       "      <td>...</td>\n",
       "      <td>...</td>\n",
       "      <td>...</td>\n",
       "      <td>...</td>\n",
       "      <td>...</td>\n",
       "      <td>...</td>\n",
       "      <td>...</td>\n",
       "    </tr>\n",
       "    <tr>\n",
       "      <th>1518325</th>\n",
       "      <td>2023-01-17 11:32:02</td>\n",
       "      <td>2.0</td>\n",
       "      <td>265</td>\n",
       "      <td>Tuesday</td>\n",
       "      <td>1</td>\n",
       "      <td>11</td>\n",
       "      <td>13</td>\n",
       "      <td>NaN</td>\n",
       "      <td>Richmond Hill</td>\n",
       "      <td>17</td>\n",
       "    </tr>\n",
       "    <tr>\n",
       "      <th>558849</th>\n",
       "      <td>2023-01-07 14:01:46</td>\n",
       "      <td>1.0</td>\n",
       "      <td>265</td>\n",
       "      <td>Saturday</td>\n",
       "      <td>1</td>\n",
       "      <td>14</td>\n",
       "      <td>16</td>\n",
       "      <td>NaN</td>\n",
       "      <td>NaN</td>\n",
       "      <td>7</td>\n",
       "    </tr>\n",
       "    <tr>\n",
       "      <th>2061340</th>\n",
       "      <td>2023-01-22 14:53:55</td>\n",
       "      <td>3.0</td>\n",
       "      <td>265</td>\n",
       "      <td>Sunday</td>\n",
       "      <td>1</td>\n",
       "      <td>14</td>\n",
       "      <td>14</td>\n",
       "      <td>NaN</td>\n",
       "      <td>NaN</td>\n",
       "      <td>22</td>\n",
       "    </tr>\n",
       "    <tr>\n",
       "      <th>2103028</th>\n",
       "      <td>2023-01-23 00:35:22</td>\n",
       "      <td>1.0</td>\n",
       "      <td>265</td>\n",
       "      <td>Monday</td>\n",
       "      <td>1</td>\n",
       "      <td>0</td>\n",
       "      <td>0</td>\n",
       "      <td>NaN</td>\n",
       "      <td>NaN</td>\n",
       "      <td>23</td>\n",
       "    </tr>\n",
       "    <tr>\n",
       "      <th>246170</th>\n",
       "      <td>2023-01-04 11:57:04</td>\n",
       "      <td>1.0</td>\n",
       "      <td>265</td>\n",
       "      <td>Wednesday</td>\n",
       "      <td>1</td>\n",
       "      <td>11</td>\n",
       "      <td>11</td>\n",
       "      <td>NaN</td>\n",
       "      <td>NaN</td>\n",
       "      <td>4</td>\n",
       "    </tr>\n",
       "  </tbody>\n",
       "</table>\n",
       "<p>337 rows × 10 columns</p>\n",
       "</div>"
      ],
      "text/plain": [
       "        tpep_pickup_datetime  passenger_count  PULocationID   weekdays  month  \\\n",
       "171323   2023-01-03 13:18:11              1.0           265    Tuesday      1   \n",
       "77946    2023-01-02 07:35:02              1.0           265     Monday      1   \n",
       "2391378  2023-01-25 22:44:27              1.0           265  Wednesday      1   \n",
       "2132929  2023-01-23 12:15:11              1.0           265     Monday      1   \n",
       "2648007  2023-01-28 10:15:07              1.0           265   Saturday      1   \n",
       "...                      ...              ...           ...        ...    ...   \n",
       "1518325  2023-01-17 11:32:02              2.0           265    Tuesday      1   \n",
       "558849   2023-01-07 14:01:46              1.0           265   Saturday      1   \n",
       "2061340  2023-01-22 14:53:55              3.0           265     Sunday      1   \n",
       "2103028  2023-01-23 00:35:22              1.0           265     Monday      1   \n",
       "246170   2023-01-04 11:57:04              1.0           265  Wednesday      1   \n",
       "\n",
       "         hour_start  hour_end start_loc        end_loc  days  \n",
       "171323           13        13       NaN            NaN     3  \n",
       "77946             7         7       NaN            NaN     2  \n",
       "2391378          22        22       NaN            NaN    25  \n",
       "2132929          12        12       NaN            NaN    23  \n",
       "2648007          10        10       NaN            NaN    28  \n",
       "...             ...       ...       ...            ...   ...  \n",
       "1518325          11        13       NaN  Richmond Hill    17  \n",
       "558849           14        16       NaN            NaN     7  \n",
       "2061340          14        14       NaN            NaN    22  \n",
       "2103028           0         0       NaN            NaN    23  \n",
       "246170           11        11       NaN            NaN     4  \n",
       "\n",
       "[337 rows x 10 columns]"
      ]
     },
     "execution_count": 107,
     "metadata": {},
     "output_type": "execute_result"
    }
   ],
   "source": [
    "my_dataset.query('start_loc.isnull()', engine='python')"
   ]
  },
  {
   "cell_type": "code",
   "execution_count": 108,
   "id": "18d50535",
   "metadata": {},
   "outputs": [
    {
     "data": {
      "text/html": [
       "<div>\n",
       "<style scoped>\n",
       "    .dataframe tbody tr th:only-of-type {\n",
       "        vertical-align: middle;\n",
       "    }\n",
       "\n",
       "    .dataframe tbody tr th {\n",
       "        vertical-align: top;\n",
       "    }\n",
       "\n",
       "    .dataframe thead th {\n",
       "        text-align: right;\n",
       "    }\n",
       "</style>\n",
       "<table border=\"1\" class=\"dataframe\">\n",
       "  <thead>\n",
       "    <tr style=\"text-align: right;\">\n",
       "      <th></th>\n",
       "      <th>LocationID</th>\n",
       "      <th>Borough</th>\n",
       "      <th>Zone</th>\n",
       "      <th>service_zone</th>\n",
       "    </tr>\n",
       "  </thead>\n",
       "  <tbody>\n",
       "    <tr>\n",
       "      <th>260</th>\n",
       "      <td>261</td>\n",
       "      <td>Manhattan</td>\n",
       "      <td>World Trade Center</td>\n",
       "      <td>Yellow Zone</td>\n",
       "    </tr>\n",
       "    <tr>\n",
       "      <th>261</th>\n",
       "      <td>262</td>\n",
       "      <td>Manhattan</td>\n",
       "      <td>Yorkville East</td>\n",
       "      <td>Yellow Zone</td>\n",
       "    </tr>\n",
       "    <tr>\n",
       "      <th>262</th>\n",
       "      <td>263</td>\n",
       "      <td>Manhattan</td>\n",
       "      <td>Yorkville West</td>\n",
       "      <td>Yellow Zone</td>\n",
       "    </tr>\n",
       "    <tr>\n",
       "      <th>263</th>\n",
       "      <td>264</td>\n",
       "      <td>Unknown</td>\n",
       "      <td>NV</td>\n",
       "      <td>NaN</td>\n",
       "    </tr>\n",
       "    <tr>\n",
       "      <th>264</th>\n",
       "      <td>265</td>\n",
       "      <td>Unknown</td>\n",
       "      <td>NaN</td>\n",
       "      <td>NaN</td>\n",
       "    </tr>\n",
       "  </tbody>\n",
       "</table>\n",
       "</div>"
      ],
      "text/plain": [
       "     LocationID    Borough                Zone service_zone\n",
       "260         261  Manhattan  World Trade Center  Yellow Zone\n",
       "261         262  Manhattan      Yorkville East  Yellow Zone\n",
       "262         263  Manhattan      Yorkville West  Yellow Zone\n",
       "263         264    Unknown                  NV          NaN\n",
       "264         265    Unknown                 NaN          NaN"
      ]
     },
     "execution_count": 108,
     "metadata": {},
     "output_type": "execute_result"
    }
   ],
   "source": [
    "location.tail()\n",
    "# threr is not a value for 265 so we should dropna "
   ]
  },
  {
   "cell_type": "code",
   "execution_count": 109,
   "id": "ab5da942",
   "metadata": {},
   "outputs": [],
   "source": [
    "my_dataset.dropna(inplace=True)"
   ]
  },
  {
   "cell_type": "markdown",
   "id": "c6a2350a",
   "metadata": {},
   "source": [
    "## Data Preparation"
   ]
  },
  {
   "cell_type": "code",
   "execution_count": 120,
   "id": "bfb47b9f",
   "metadata": {},
   "outputs": [],
   "source": [
    "group=my_dataset.groupby([\"PULocationID\" ,\"days\" ,\"weekdays\" ,\"hour_start\"])[\"passenger_count\"].count()"
   ]
  },
  {
   "cell_type": "code",
   "execution_count": 121,
   "id": "43dfb028",
   "metadata": {},
   "outputs": [],
   "source": [
    "df_grouped = group.reset_index()"
   ]
  },
  {
   "cell_type": "code",
   "execution_count": 122,
   "id": "7b181f04",
   "metadata": {},
   "outputs": [
    {
     "data": {
      "text/plain": [
       "(63683, 5)"
      ]
     },
     "execution_count": 122,
     "metadata": {},
     "output_type": "execute_result"
    }
   ],
   "source": [
    "df_grouped.shape"
   ]
  },
  {
   "cell_type": "code",
   "execution_count": 123,
   "id": "348a0e42",
   "metadata": {},
   "outputs": [
    {
     "data": {
      "text/html": [
       "<div>\n",
       "<style scoped>\n",
       "    .dataframe tbody tr th:only-of-type {\n",
       "        vertical-align: middle;\n",
       "    }\n",
       "\n",
       "    .dataframe tbody tr th {\n",
       "        vertical-align: top;\n",
       "    }\n",
       "\n",
       "    .dataframe thead th {\n",
       "        text-align: right;\n",
       "    }\n",
       "</style>\n",
       "<table border=\"1\" class=\"dataframe\">\n",
       "  <thead>\n",
       "    <tr style=\"text-align: right;\">\n",
       "      <th></th>\n",
       "      <th>PULocationID</th>\n",
       "      <th>days</th>\n",
       "      <th>weekdays</th>\n",
       "      <th>hour_start</th>\n",
       "      <th>passenger_count</th>\n",
       "    </tr>\n",
       "  </thead>\n",
       "  <tbody>\n",
       "    <tr>\n",
       "      <th>16273</th>\n",
       "      <td>79</td>\n",
       "      <td>22</td>\n",
       "      <td>Sunday</td>\n",
       "      <td>1</td>\n",
       "      <td>640</td>\n",
       "    </tr>\n",
       "    <tr>\n",
       "      <th>16441</th>\n",
       "      <td>79</td>\n",
       "      <td>29</td>\n",
       "      <td>Sunday</td>\n",
       "      <td>1</td>\n",
       "      <td>598</td>\n",
       "    </tr>\n",
       "    <tr>\n",
       "      <th>16272</th>\n",
       "      <td>79</td>\n",
       "      <td>22</td>\n",
       "      <td>Sunday</td>\n",
       "      <td>0</td>\n",
       "      <td>584</td>\n",
       "    </tr>\n",
       "    <tr>\n",
       "      <th>16248</th>\n",
       "      <td>79</td>\n",
       "      <td>21</td>\n",
       "      <td>Saturday</td>\n",
       "      <td>0</td>\n",
       "      <td>582</td>\n",
       "    </tr>\n",
       "    <tr>\n",
       "      <th>37372</th>\n",
       "      <td>161</td>\n",
       "      <td>11</td>\n",
       "      <td>Wednesday</td>\n",
       "      <td>18</td>\n",
       "      <td>580</td>\n",
       "    </tr>\n",
       "    <tr>\n",
       "      <th>15937</th>\n",
       "      <td>79</td>\n",
       "      <td>8</td>\n",
       "      <td>Sunday</td>\n",
       "      <td>1</td>\n",
       "      <td>576</td>\n",
       "    </tr>\n",
       "    <tr>\n",
       "      <th>37540</th>\n",
       "      <td>161</td>\n",
       "      <td>18</td>\n",
       "      <td>Wednesday</td>\n",
       "      <td>18</td>\n",
       "      <td>573</td>\n",
       "    </tr>\n",
       "    <tr>\n",
       "      <th>16249</th>\n",
       "      <td>79</td>\n",
       "      <td>21</td>\n",
       "      <td>Saturday</td>\n",
       "      <td>1</td>\n",
       "      <td>570</td>\n",
       "    </tr>\n",
       "    <tr>\n",
       "      <th>16416</th>\n",
       "      <td>79</td>\n",
       "      <td>28</td>\n",
       "      <td>Saturday</td>\n",
       "      <td>0</td>\n",
       "      <td>568</td>\n",
       "    </tr>\n",
       "    <tr>\n",
       "      <th>16417</th>\n",
       "      <td>79</td>\n",
       "      <td>28</td>\n",
       "      <td>Saturday</td>\n",
       "      <td>1</td>\n",
       "      <td>563</td>\n",
       "    </tr>\n",
       "    <tr>\n",
       "      <th>37684</th>\n",
       "      <td>161</td>\n",
       "      <td>24</td>\n",
       "      <td>Tuesday</td>\n",
       "      <td>18</td>\n",
       "      <td>561</td>\n",
       "    </tr>\n",
       "    <tr>\n",
       "      <th>54334</th>\n",
       "      <td>236</td>\n",
       "      <td>4</td>\n",
       "      <td>Wednesday</td>\n",
       "      <td>18</td>\n",
       "      <td>558</td>\n",
       "    </tr>\n",
       "    <tr>\n",
       "      <th>37685</th>\n",
       "      <td>161</td>\n",
       "      <td>24</td>\n",
       "      <td>Tuesday</td>\n",
       "      <td>19</td>\n",
       "      <td>551</td>\n",
       "    </tr>\n",
       "    <tr>\n",
       "      <th>37852</th>\n",
       "      <td>161</td>\n",
       "      <td>31</td>\n",
       "      <td>Tuesday</td>\n",
       "      <td>18</td>\n",
       "      <td>550</td>\n",
       "    </tr>\n",
       "    <tr>\n",
       "      <th>16440</th>\n",
       "      <td>79</td>\n",
       "      <td>29</td>\n",
       "      <td>Sunday</td>\n",
       "      <td>0</td>\n",
       "      <td>548</td>\n",
       "    </tr>\n",
       "    <tr>\n",
       "      <th>37732</th>\n",
       "      <td>161</td>\n",
       "      <td>26</td>\n",
       "      <td>Thursday</td>\n",
       "      <td>18</td>\n",
       "      <td>544</td>\n",
       "    </tr>\n",
       "    <tr>\n",
       "      <th>16104</th>\n",
       "      <td>79</td>\n",
       "      <td>15</td>\n",
       "      <td>Sunday</td>\n",
       "      <td>0</td>\n",
       "      <td>542</td>\n",
       "    </tr>\n",
       "    <tr>\n",
       "      <th>16274</th>\n",
       "      <td>79</td>\n",
       "      <td>22</td>\n",
       "      <td>Sunday</td>\n",
       "      <td>2</td>\n",
       "      <td>542</td>\n",
       "    </tr>\n",
       "    <tr>\n",
       "      <th>37373</th>\n",
       "      <td>161</td>\n",
       "      <td>11</td>\n",
       "      <td>Wednesday</td>\n",
       "      <td>19</td>\n",
       "      <td>539</td>\n",
       "    </tr>\n",
       "    <tr>\n",
       "      <th>16081</th>\n",
       "      <td>79</td>\n",
       "      <td>14</td>\n",
       "      <td>Saturday</td>\n",
       "      <td>1</td>\n",
       "      <td>538</td>\n",
       "    </tr>\n",
       "  </tbody>\n",
       "</table>\n",
       "</div>"
      ],
      "text/plain": [
       "       PULocationID  days   weekdays  hour_start  passenger_count\n",
       "16273            79    22     Sunday           1              640\n",
       "16441            79    29     Sunday           1              598\n",
       "16272            79    22     Sunday           0              584\n",
       "16248            79    21   Saturday           0              582\n",
       "37372           161    11  Wednesday          18              580\n",
       "15937            79     8     Sunday           1              576\n",
       "37540           161    18  Wednesday          18              573\n",
       "16249            79    21   Saturday           1              570\n",
       "16416            79    28   Saturday           0              568\n",
       "16417            79    28   Saturday           1              563\n",
       "37684           161    24    Tuesday          18              561\n",
       "54334           236     4  Wednesday          18              558\n",
       "37685           161    24    Tuesday          19              551\n",
       "37852           161    31    Tuesday          18              550\n",
       "16440            79    29     Sunday           0              548\n",
       "37732           161    26   Thursday          18              544\n",
       "16104            79    15     Sunday           0              542\n",
       "16274            79    22     Sunday           2              542\n",
       "37373           161    11  Wednesday          19              539\n",
       "16081            79    14   Saturday           1              538"
      ]
     },
     "execution_count": 123,
     "metadata": {},
     "output_type": "execute_result"
    }
   ],
   "source": [
    "df_grouped.sort_values(by=\"passenger_count\" , ascending= False).head(20)"
   ]
  },
  {
   "cell_type": "code",
   "execution_count": 124,
   "id": "1251d31d",
   "metadata": {},
   "outputs": [],
   "source": [
    "y=df_grouped[\"passenger_count\"]"
   ]
  },
  {
   "cell_type": "code",
   "execution_count": 125,
   "id": "bad3c364",
   "metadata": {},
   "outputs": [],
   "source": [
    "x=df_grouped.drop(\"passenger_count\" , axis=1)"
   ]
  },
  {
   "cell_type": "code",
   "execution_count": 220,
   "id": "c8e65ec9",
   "metadata": {},
   "outputs": [],
   "source": [
    "x_train , x_test , y_train, y_test=train_test_split(x , y, test_size=0.2 , random_state=42)"
   ]
  },
  {
   "cell_type": "code",
   "execution_count": 214,
   "id": "f6bda879",
   "metadata": {},
   "outputs": [
    {
     "data": {
      "text/html": [
       "<div>\n",
       "<style scoped>\n",
       "    .dataframe tbody tr th:only-of-type {\n",
       "        vertical-align: middle;\n",
       "    }\n",
       "\n",
       "    .dataframe tbody tr th {\n",
       "        vertical-align: top;\n",
       "    }\n",
       "\n",
       "    .dataframe thead th {\n",
       "        text-align: right;\n",
       "    }\n",
       "</style>\n",
       "<table border=\"1\" class=\"dataframe\">\n",
       "  <thead>\n",
       "    <tr style=\"text-align: right;\">\n",
       "      <th></th>\n",
       "      <th>PULocationID</th>\n",
       "      <th>days</th>\n",
       "      <th>weekdays</th>\n",
       "      <th>hour_start</th>\n",
       "    </tr>\n",
       "  </thead>\n",
       "  <tbody>\n",
       "    <tr>\n",
       "      <th>5754</th>\n",
       "      <td>39</td>\n",
       "      <td>21</td>\n",
       "      <td>Saturday</td>\n",
       "      <td>19</td>\n",
       "    </tr>\n",
       "    <tr>\n",
       "      <th>25454</th>\n",
       "      <td>125</td>\n",
       "      <td>14</td>\n",
       "      <td>Saturday</td>\n",
       "      <td>22</td>\n",
       "    </tr>\n",
       "    <tr>\n",
       "      <th>25194</th>\n",
       "      <td>125</td>\n",
       "      <td>3</td>\n",
       "      <td>Tuesday</td>\n",
       "      <td>15</td>\n",
       "    </tr>\n",
       "    <tr>\n",
       "      <th>56801</th>\n",
       "      <td>239</td>\n",
       "      <td>15</td>\n",
       "      <td>Sunday</td>\n",
       "      <td>19</td>\n",
       "    </tr>\n",
       "    <tr>\n",
       "      <th>52508</th>\n",
       "      <td>232</td>\n",
       "      <td>24</td>\n",
       "      <td>Tuesday</td>\n",
       "      <td>18</td>\n",
       "    </tr>\n",
       "  </tbody>\n",
       "</table>\n",
       "</div>"
      ],
      "text/plain": [
       "       PULocationID  days  weekdays  hour_start\n",
       "5754             39    21  Saturday          19\n",
       "25454           125    14  Saturday          22\n",
       "25194           125     3   Tuesday          15\n",
       "56801           239    15    Sunday          19\n",
       "52508           232    24   Tuesday          18"
      ]
     },
     "execution_count": 214,
     "metadata": {},
     "output_type": "execute_result"
    }
   ],
   "source": [
    "x_train.head()"
   ]
  },
  {
   "cell_type": "code",
   "execution_count": 210,
   "id": "8213bfe9",
   "metadata": {},
   "outputs": [],
   "source": [
    "num_data=list(x_train[[\"PULocationID\", \"days\" , \"hour_start\"]])\n",
    "txt_data=list(x_train[[\"weekdays\"]])\n",
    "full_pip=ColumnTransformer([\n",
    "  (\"normalizer\" ,   MinMaxScaler() , num_data ), \n",
    "    (\"1hot\" ,       OneHotEncoder()   ,    txt_data ),\n",
    "])"
   ]
  },
  {
   "cell_type": "code",
   "execution_count": 211,
   "id": "0150f6ec",
   "metadata": {},
   "outputs": [],
   "source": [
    "x_train_prepared=full_pip.fit_transform(x_train)"
   ]
  },
  {
   "cell_type": "code",
   "execution_count": 212,
   "id": "adec0bdb",
   "metadata": {},
   "outputs": [
    {
     "data": {
      "text/plain": [
       "array([[0.14448669, 0.66666667, 0.82608696, ..., 0.        , 0.        ,\n",
       "        0.        ],\n",
       "       [0.47148289, 0.43333333, 0.95652174, ..., 0.        , 0.        ,\n",
       "        0.        ],\n",
       "       [0.47148289, 0.06666667, 0.65217391, ..., 0.        , 1.        ,\n",
       "        0.        ],\n",
       "       ...,\n",
       "       [0.02281369, 0.43333333, 0.82608696, ..., 0.        , 0.        ,\n",
       "        0.        ],\n",
       "       [0.29657795, 0.03333333, 0.13043478, ..., 0.        , 0.        ,\n",
       "        0.        ],\n",
       "       [0.90114068, 0.96666667, 0.91304348, ..., 0.        , 0.        ,\n",
       "        0.        ]])"
      ]
     },
     "execution_count": 212,
     "metadata": {},
     "output_type": "execute_result"
    }
   ],
   "source": [
    "x_train_prepared"
   ]
  },
  {
   "cell_type": "markdown",
   "id": "ab6a9faf",
   "metadata": {},
   "source": [
    "# Model Selection and Evaluation"
   ]
  },
  {
   "cell_type": "markdown",
   "id": "72bb77fe",
   "metadata": {},
   "source": [
    "### DecisionTree"
   ]
  },
  {
   "cell_type": "code",
   "execution_count": 160,
   "id": "af78cbad",
   "metadata": {},
   "outputs": [
    {
     "name": "stdout",
     "output_type": "stream",
     "text": [
      "Model: DecisionTreeRegressor\n",
      "RMSE:18.00665723518552\n",
      "R2:0.9346451732818009\n"
     ]
    }
   ],
   "source": [
    "dtr=DecisionTreeRegressor() \n",
    "dtr.fit(x_train_prepared, y_train)\n",
    "y_pred_dtr=cross_val_predict(dtr , x_train_prepared, y_train, cv=10)\n",
    "dtr_rmse=np.sqrt(mean_squared_error(y_train ,y_pred_dtr))\n",
    "R2_dtr=r2_score(y_train ,y_pred_dtr)\n",
    "print(f\"Model: {dtr.__class__.__name__}\")\n",
    "print(f\"RMSE:{dtr_rmse}\")\n",
    "print(f\"R2:{R2_dtr}\")"
   ]
  },
  {
   "cell_type": "markdown",
   "id": "838affc0",
   "metadata": {},
   "source": [
    "### GradientBoost"
   ]
  },
  {
   "cell_type": "code",
   "execution_count": 166,
   "id": "7d5da6f1",
   "metadata": {},
   "outputs": [
    {
     "name": "stdout",
     "output_type": "stream",
     "text": [
      "Model: GradientBoostingRegressor\n",
      "RMSE:43.04443888966684\n",
      "R2:0.6265387263535175\n"
     ]
    }
   ],
   "source": [
    "gbr=GradientBoostingRegressor(learning_rate=0.1 , n_estimators=1000)\n",
    "gbr.fit(x_train_prepared, y_train)\n",
    "y_pred_gbr=cross_val_predict(gbr , x_train_prepared, y_train, cv=10)\n",
    "gbr_rmse=np.sqrt(mean_squared_error(y_train ,y_pred_gbr))\n",
    "R2_gbr=r2_score(y_train ,y_pred_gbr)\n",
    "print(f\"Model: {gbr.__class__.__name__}\")\n",
    "print(f\"RMSE:{gbr_rmse}\")\n",
    "print(f\"R2:{R2_gbr}\")"
   ]
  },
  {
   "cell_type": "markdown",
   "id": "971de512",
   "metadata": {},
   "source": [
    "### XGBoost"
   ]
  },
  {
   "cell_type": "code",
   "execution_count": 197,
   "id": "e6a84224",
   "metadata": {},
   "outputs": [
    {
     "name": "stdout",
     "output_type": "stream",
     "text": [
      "Model: XGBRegressor\n",
      "RMSE:13.39596141687362\n",
      "R2:0.9638291055591227\n"
     ]
    }
   ],
   "source": [
    "import xgboost as xgb\n",
    "from xgboost import plot_importance, plot_tree\n",
    "xgb = xgb.XGBRegressor(n_estimators=1000)\n",
    "xgb.fit(x_train_prepared, y_train)\n",
    "y_pred_xgb=cross_val_predict(xgb , x_train_prepared, y_train, cv=10)\n",
    "xgb_rmse=np.sqrt(mean_squared_error(y_train ,y_pred_xgb))\n",
    "R2_xgb=r2_score(y_train ,y_pred_xgb)\n",
    "print(f\"Model: {xgb.__class__.__name__}\")\n",
    "print(f\"RMSE:{xgb_rmse}\")\n",
    "print(f\"R2:{R2_xgb}\")"
   ]
  },
  {
   "cell_type": "markdown",
   "id": "d2d510f2",
   "metadata": {},
   "source": [
    "### Feature Importance"
   ]
  },
  {
   "cell_type": "code",
   "execution_count": 179,
   "id": "c3288a8a",
   "metadata": {},
   "outputs": [
    {
     "data": {
      "text/plain": [
       "<AxesSubplot:title={'center':'Feature Importance'}, xlabel='Feature Importance', ylabel='Features'>"
      ]
     },
     "execution_count": 179,
     "metadata": {},
     "output_type": "execute_result"
    },
    {
     "data": {
      "image/png": "[encoded data removed]",
      "text/plain": [
       "<Figure size 432x288 with 1 Axes>"
      ]
     },
     "metadata": {
      "needs_background": "light"
     },
     "output_type": "display_data"
    }
   ],
   "source": [
    "plot_importance(xgb, height=0.9, importance_type='weight', xlabel='Feature Importance', title='Feature Importance')"
   ]
  },
  {
   "cell_type": "code",
   "execution_count": 198,
   "id": "d264b646",
   "metadata": {},
   "outputs": [
    {
     "data": {
      "text/plain": [
       "{'f0': 24328.0,\n",
       " 'f1': 10616.0,\n",
       " 'f2': 18640.0,\n",
       " 'f3': 913.0,\n",
       " 'f4': 995.0,\n",
       " 'f5': 1544.0,\n",
       " 'f6': 1698.0,\n",
       " 'f7': 729.0,\n",
       " 'f8': 692.0,\n",
       " 'f9': 756.0}"
      ]
     },
     "execution_count": 198,
     "metadata": {},
     "output_type": "execute_result"
    }
   ],
   "source": [
    "xgb.get_booster().get_score(importance_type='weight')"
   ]
  },
  {
   "cell_type": "code",
   "execution_count": 207,
   "id": "492a1d81",
   "metadata": {},
   "outputs": [
    {
     "data": {
      "text/plain": [
       "['normalizer__PULocationID',\n",
       " 'normalizer__days',\n",
       " 'normalizer__hour_start',\n",
       " '1hot__weekdays_Friday',\n",
       " '1hot__weekdays_Monday',\n",
       " '1hot__weekdays_Saturday',\n",
       " '1hot__weekdays_Sunday',\n",
       " '1hot__weekdays_Thursday',\n",
       " '1hot__weekdays_Tuesday',\n",
       " '1hot__weekdays_Wednesday']"
      ]
     },
     "execution_count": 207,
     "metadata": {},
     "output_type": "execute_result"
    }
   ],
   "source": [
    "xgb.get_booster().feature_names = list(full_pip.get_feature_names_out())\n",
    "xgb.get_booster().feature_names "
   ]
  },
  {
   "cell_type": "markdown",
   "id": "cfb3cb69",
   "metadata": {},
   "source": [
    "# Evaluation"
   ]
  },
  {
   "cell_type": "code",
   "execution_count": 218,
   "id": "8621c03c",
   "metadata": {},
   "outputs": [],
   "source": [
    "from sklearn.metrics import mean_squared_error, mean_squared_log_error, mean_absolute_error\n",
    "def evaluation(model):\n",
    "    print(\"RMSE:\", np.sqrt(mean_squared_error(y_test, model.predict(x_test))))\n",
    "    print(\"MAE:\" , mean_absolute_error(y_test, model.predict(x_test)))\n",
    "    print(\"R2:\", r2_score(y_test, model.predict(x_test)))"
   ]
  },
  {
   "cell_type": "code",
   "execution_count": 221,
   "id": "80552cef",
   "metadata": {},
   "outputs": [],
   "source": [
    "x_test=full_pip.transform(x_test)"
   ]
  },
  {
   "cell_type": "code",
   "execution_count": 222,
   "id": "5c29c723",
   "metadata": {},
   "outputs": [
    {
     "name": "stdout",
     "output_type": "stream",
     "text": [
      "RMSE: 13.172305598577466\n",
      "MAE: 7.453351411430616\n",
      "R2: 0.9634152160156193\n"
     ]
    }
   ],
   "source": [
    "evaluation(xgb)"
   ]
  },
  {
   "cell_type": "code",
   "execution_count": 223,
   "id": "1e56f513",
   "metadata": {},
   "outputs": [],
   "source": [
    "y_pred=xgb.predict(x_test)"
   ]
  },
  {
   "cell_type": "markdown",
   "id": "f0cff139",
   "metadata": {},
   "source": [
    "### Scatter Plot"
   ]
  },
  {
   "cell_type": "code",
   "execution_count": 230,
   "id": "9b1c6bb7",
   "metadata": {},
   "outputs": [
    {
     "data": {
      "image/png": "[encoded data removed]",
      "text/plain": [
       "<Figure size 432x288 with 1 Axes>"
      ]
     },
     "metadata": {
      "needs_background": "light"
     },
     "output_type": "display_data"
    }
   ],
   "source": [
    "plt.scatter(y_test, y_pred, alpha=0.09)\n",
    "plt.xlabel(\"Actual Values\")\n",
    "plt.ylabel(\"Predicted Values\")\n",
    "plt.title(\"Actual vs Predicted Values\")\n",
    "plt.show()"
   ]
  },
  {
   "cell_type": "code",
   "execution_count": null,
   "id": "8cb36466",
   "metadata": {},
   "outputs": [],
   "source": []
  }
 ],
 "metadata": {
  "kernelspec": {
   "display_name": "Python 3",
   "language": "python",
   "name": "python3"
  },
  "language_info": {
   "codemirror_mode": {
    "name": "ipython",
    "version": 3
   },
   "file_extension": ".py",
   "mimetype": "text/x-python",
   "name": "python",
   "nbconvert_exporter": "python",
   "pygments_lexer": "ipython3",
   "version": "3.8.8"
  }
 },
 "nbformat": 4,
 "nbformat_minor": 5
}
